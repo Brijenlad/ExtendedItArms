{
 "cells": [
  {
   "cell_type": "code",
   "execution_count": 5,
   "id": "b95a4eb5",
   "metadata": {},
   "outputs": [],
   "source": [
    "import pandas as pd\n",
    "import numpy as np\n",
    "from datetime import date\n",
    "import sys\n",
    "from dateutil.parser import parse\n"
   ]
  },
  {
   "cell_type": "code",
   "execution_count": 14,
   "id": "9aa71853",
   "metadata": {},
   "outputs": [
    {
     "name": "stdout",
     "output_type": "stream",
     "text": [
      "<function is_date at 0x0000020D88C5FEE0>\n"
     ]
    }
   ],
   "source": [
    "def is_date(string, fuzzy=False):\n",
    "    \"\"\"\n",
    "    Return whether the string can be interpreted as a date.\n",
    "\n",
    "    :param string: str, string to check for date\n",
    "    :param fuzzy: bool, ignore unknown tokens in string if True\n",
    "    \"\"\"\n",
    "    try:\n",
    "        parse(string, fuzzy=fuzzy)\n",
    "        return True\n",
    "\n",
    "    except ValueError:\n",
    "        return False\n",
    "print(is_date)"
   ]
  },
  {
   "cell_type": "code",
   "execution_count": 7,
   "id": "233b8660",
   "metadata": {},
   "outputs": [
    {
     "name": "stdout",
     "output_type": "stream",
     "text": [
      "2021-12-02\n"
     ]
    }
   ],
   "source": [
    "todays_date = date.today() #todays date in yyyy-mm-dd\n",
    "print(todays_date)"
   ]
  },
  {
   "cell_type": "code",
   "execution_count": 26,
   "id": "42bcdfd1",
   "metadata": {},
   "outputs": [
    {
     "name": "stdout",
     "output_type": "stream",
     "text": [
      "  Patient_First_Name Patient_Last_Name         DOB\n",
      "0             Andrew             Scott  01-12-1980\n",
      "1              James            Camron  05-10-1985\n",
      "2              Carel               Doe  09-03-1990\n",
      "3             Brijen               Lad  05-05-2000\n",
      "4                Abc               Xyz         NaN\n",
      "5                Xyz               Abc         two\n"
     ]
    }
   ],
   "source": [
    "#read csv file\n",
    "dataFrame = pd.read_csv(\"patient.csv\") #read csv and data frame created\n",
    "print(dataFrame) #show dat"
   ]
  },
  {
   "cell_type": "code",
   "execution_count": 25,
   "id": "f46fa752",
   "metadata": {},
   "outputs": [
    {
     "name": "stdout",
     "output_type": "stream",
     "text": [
      "   Patient_Name\n",
      "0  Andrew Scott\n",
      "1  James Camron\n",
      "2     Carel Doe\n",
      "3    Brijen Lad\n",
      "4       Abc Xyz\n",
      "5       Xyz Abc\n"
     ]
    }
   ],
   "source": [
    "dataFrame2 = pd.DataFrame() #created new dataframe\n",
    "dataFrame2[\"Patient_Name\"] = dataFrame[\"Patient_First_Name\"]+\" \"+ dataFrame[\"Patient_Last_Name\"] #conactenated 2 columns from original dataframe\n",
    "# and data put into new data frame 2\n",
    "print(dataFrame2)"
   ]
  },
  {
   "cell_type": "code",
   "execution_count": 24,
   "id": "d6a70497",
   "metadata": {},
   "outputs": [
    {
     "name": "stdout",
     "output_type": "stream",
     "text": [
      "0    01-12-1980\n",
      "1    05-10-1985\n",
      "2    09-03-1990\n",
      "3    05-05-2000\n",
      "4           NaN\n",
      "5           two\n",
      "Name: DOB, dtype: object\n",
      "0    01-12-1980\n",
      "1    05-10-1985\n",
      "2    09-03-1990\n",
      "3    05-05-2000\n",
      "4           NaN\n",
      "5           two\n",
      "Name: DOB, dtype: object\n",
      "[41, 36, 31, 21, 'No DOB', 'No DOB']\n",
      "two\n",
      "0    01-12-1980\n",
      "1    05-10-1985\n",
      "2    09-03-1990\n",
      "3    05-05-2000\n",
      "4           NaN\n",
      "5           two\n",
      "Name: DOB, dtype: object\n"
     ]
    }
   ],
   "source": [
    "x = dataFrame[\"DOB\"] #extracted DOB column values\n",
    "print(x)\n",
    "print(dataFrame[\"DOB\"])\n",
    "\n",
    "lst=[] #created empty list\n",
    "\n",
    "for i in x: #for each date\n",
    "    if pd.isna(i) or not is_date(i): #check if date is Null/NAN or some unknown String\n",
    "        lst.append(\"No DOB\") #then show value \"no dob\"\n",
    "    else: #else subtract dates and generate age\n",
    "        lst.append(todays_date.year-int(i[6:10])) #extracted age\n",
    "print(lst)\n",
    "print(i)\n",
    "print(x)"
   ]
  },
  {
   "cell_type": "code",
   "execution_count": 27,
   "id": "e8f49534",
   "metadata": {},
   "outputs": [
    {
     "name": "stdout",
     "output_type": "stream",
     "text": [
      "   Patient_Name Patient_Age\n",
      "0  Andrew Scott          41\n",
      "1  James Camron          36\n",
      "2     Carel Doe          31\n",
      "3    Brijen Lad          21\n",
      "4       Abc Xyz      No DOB\n",
      "5       Xyz Abc      No DOB\n"
     ]
    }
   ],
   "source": [
    "dataFrame2[\"Patient_Age\"]=pd.DataFrame(lst) #put list into dataframe2 as column\n",
    "print(dataFrame2) #show data frame 2"
   ]
  },
  {
   "cell_type": "code",
   "execution_count": 28,
   "id": "beb79075",
   "metadata": {},
   "outputs": [
    {
     "name": "stdout",
     "output_type": "stream",
     "text": [
      "<bound method NDFrame.to_csv of    Patient_Name Patient_Age\n",
      "0  Andrew Scott          41\n",
      "1  James Camron          36\n",
      "2     Carel Doe          31\n",
      "3    Brijen Lad          21\n",
      "4       Abc Xyz      No DOB\n",
      "5       Xyz Abc      No DOB>\n"
     ]
    }
   ],
   "source": [
    "new_column_names = ['Patient_Name', 'Patient_Age'] #new column names\n",
    "dataFrame2.to_csv('New_Patient.csv', index=False, header=new_column_names) # write into new csv file\n",
    "print(dataFrame2.to_csv)"
   ]
  },
  {
   "cell_type": "code",
   "execution_count": null,
   "id": "8afba6ad",
   "metadata": {},
   "outputs": [],
   "source": []
  }
 ],
 "metadata": {
  "kernelspec": {
   "display_name": "Python 3",
   "language": "python",
   "name": "python3"
  },
  "language_info": {
   "codemirror_mode": {
    "name": "ipython",
    "version": 3
   },
   "file_extension": ".py",
   "mimetype": "text/x-python",
   "name": "python",
   "nbconvert_exporter": "python",
   "pygments_lexer": "ipython3",
   "version": "3.8.8"
  }
 },
 "nbformat": 4,
 "nbformat_minor": 5
}
